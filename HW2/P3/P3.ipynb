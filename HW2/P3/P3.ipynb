{
 "cells": [
  {
   "cell_type": "code",
   "execution_count": 1,
   "metadata": {
    "collapsed": false
   },
   "outputs": [
    {
     "name": "stdout",
     "output_type": "stream",
     "text": [
      "Compiling with /usr/local/bin/clang-omp\n"
     ]
    }
   ],
   "source": [
    "import sys\n",
    "import os.path\n",
    "sys.path.append(os.path.join('..', 'util'))\n",
    "\n",
    "import set_compiler\n",
    "set_compiler.install()\n",
    "\n",
    "import pyximport\n",
    "pyximport.install()\n",
    "\n",
    "import mandelbrot\n",
    "from timer import Timer\n",
    "\n",
    "import pylab as plt\n",
    "import numpy as np\n",
    "%matplotlib inline\n",
    "\n",
    "# create coordinates, along with output count array\n",
    "def make_coords(center=(-0.575 - 0.575j),\n",
    "                width=0.0025,\n",
    "                count=4000):\n",
    "\n",
    "    x = np.linspace(start=(-width / 2), stop=(width / 2), num=count)\n",
    "    xx = center + (x + 1j * x[:, np.newaxis]).astype(np.complex64)\n",
    "    return xx, np.zeros_like(xx, dtype=np.uint32)"
   ]
  },
  {
   "cell_type": "code",
   "execution_count": null,
   "metadata": {
    "collapsed": false
   },
   "outputs": [],
   "source": [
    "in_coords, out_counts = make_coords()"
   ]
  },
  {
   "cell_type": "code",
   "execution_count": null,
   "metadata": {
    "collapsed": false
   },
   "outputs": [],
   "source": [
    "with Timer() as t:\n",
    "        mandelbrot.avx_mandelbrot(in_coords, out_counts, 4, 511)\n",
    "seconds = t.interval\n",
    "\n",
    "print(\"{} Million Complex FMAs in {} seconds, {} million Complex FMAs / second\".format(out_counts.sum() / 1e6, seconds, (out_counts.sum() / seconds) / 1e6))\n",
    "\n",
    "plt.imshow(np.log(out_counts))\n",
    "plt.show()"
   ]
  },
  {
   "cell_type": "code",
   "execution_count": 6,
   "metadata": {
    "collapsed": false
   },
   "outputs": [
    {
     "name": "stdout",
     "output_type": "stream",
     "text": [
      "len a: 48\n",
      "len b: 24\n"
     ]
    }
   ],
   "source": [
    "a = ([0,  0,  0,  0,  0,  0,  0,  0,  0,  0,\n",
    "        0,  0,  0,  0,  0,  0,  0,  0,  0,  0,  0,  0,  0,  0,  0,  0,  0,\n",
    "        0,  0,  0,  0,  0,  0,  0,  0,  0,  0,  0,  0,  0,  0,  0,  0,  0,\n",
    "        0,  0,  0,  0])\n",
    "print \"len a:\",len(a)\n",
    "b = ([51, 51, 52, 52, 52, 52, 52, 53, 53, 53, 53, 53, 54, 54, 54, 54, 55,\n",
    "       55, 56, 56, 56, 57, 58, 58])\n",
    "print \"len b:\",len(b)"
   ]
  },
  {
   "cell_type": "code",
   "execution_count": 11,
   "metadata": {
    "collapsed": false
   },
   "outputs": [
    {
     "name": "stdout",
     "output_type": "stream",
     "text": [
      "0\n",
      "8\n",
      "16\n",
      "24\n",
      "32\n",
      "40\n",
      "48\n",
      "56\n"
     ]
    }
   ],
   "source": [
    "for i in range(0,64,8):\n",
    "    print i"
   ]
  },
  {
   "cell_type": "code",
   "execution_count": 7,
   "metadata": {
    "collapsed": false
   },
   "outputs": [
    {
     "data": {
      "text/plain": [
       "array([51, 51, 52, 52, 52, 52, 52, 53, 53, 53, 53, 53, 54, 54, 54, 54, 55,\n",
       "       55, 56, 56, 56, 57, 58, 58,  0,  0,  0,  0,  0,  0,  0,  0,  0,  0,\n",
       "        0,  0,  0,  0,  0,  0,  0,  0,  0,  0,  0,  0,  0,  0,  0,  0,  0,\n",
       "        0,  0,  0,  0,  0,  0,  0,  0,  0,  0,  0,  0,  0,  0,  0,  0,  0,\n",
       "        0,  0,  0,  0, 46, 46, 46, 45, 45, 45, 45, 45, 45, 45, 44, 44, 44,\n",
       "       44, 44, 44, 43, 43, 43, 43, 43, 43, 43, 43, 42, 42, 42, 42, 42, 42,\n",
       "       42, 42, 42, 42, 42, 41, 41, 41, 41, 41, 41, 41, 41, 41, 41, 41, 41,\n",
       "       41, 40, 40, 40, 40, 40, 40, 40, 40, 40, 40, 40, 40, 40, 40, 40, 40,\n",
       "       40, 40, 40, 39, 39, 39, 39, 39, 39, 39, 39, 39, 39, 39, 39, 39, 39,\n",
       "       39, 39, 39, 39, 38, 38, 38, 38, 38, 38, 38, 38, 38, 38, 38, 38, 38,\n",
       "       38, 38, 38, 38, 38, 38, 38, 38, 38, 38, 38, 38, 38, 38, 38, 38, 38,\n",
       "       38, 38, 38, 38, 38, 38, 38, 38, 38, 38, 38, 37, 37], dtype=uint32)"
      ]
     },
     "execution_count": 7,
     "metadata": {},
     "output_type": "execute_result"
    }
   ],
   "source": [
    "out_counts[0,0:200]"
   ]
  },
  {
   "cell_type": "markdown",
   "metadata": {},
   "source": [
    "Each iteration we do: $z=z*z+c$ when $z^2<=4$.\n",
    "<br /><br />\n",
    "Using these two properties of complex numbers we can split up $z=z*z+c$ into its real and imaginary components:\n",
    "\n",
    "Multiplication: $(a+bi)(c+di) = (ac - bd) + (ad + bc)i$\n",
    "<br /><br />\n",
    "Let $z=(z_1+z_2i)$. \n",
    "<br />\n",
    "Then: \n",
    "<br />\n",
    "$z*z=(z_1+z_2i)(z_1+z_2i)$<br />\n",
    "$=(z_1^2-z_2^2)+2(z_1z_2)i$<br />\n",
    "(now this is in the form $(a+bi)$<br />\n",
    "<br /><br />\n",
    "Addition: $(a+bi)+(c+di) = (a+c) + (bi+di)$\n",
    "<br /><br />\n",
    "Let $c=(c_1+c_2i)$.<br />\n",
    "Then: <br />\n",
    "$z*z+c=[(z_1^2-z_2^2)+2(z_1z_2)i]+(c_1+c_2i)$<br />\n",
    "$=(z_1^2-z_2^2+c_1)+(2z_1z_2+c_2)i$"
   ]
  },
  {
   "cell_type": "code",
   "execution_count": 12,
   "metadata": {
    "collapsed": false
   },
   "outputs": [
    {
     "name": "stdout",
     "output_type": "stream",
     "text": [
      "(-0.576243-0.576244j)\n",
      "-0.576243102551\n",
      "-0.576243758202\n",
      "(-7.55629269378e-07+0.664112982103j)\n",
      "-7.55629269378e-07\n",
      "0.664112982103\n"
     ]
    }
   ],
   "source": [
    "a = in_coords[10,11]\n",
    "print a\n",
    "print np.real(a)\n",
    "print np.imag(a)\n",
    "\n",
    "b = a**2\n",
    "print b\n",
    "print np.real(b)\n",
    "print np.imag(b)"
   ]
  },
  {
   "cell_type": "code",
   "execution_count": 2,
   "metadata": {
    "collapsed": false
   },
   "outputs": [
    {
     "name": "stdout",
     "output_type": "stream",
     "text": [
      "1074.656613 Million Complex FMAs in 5.60505104065 seconds, 191.730031574 million Complex FMAs / second\n"
     ]
    },
    {
     "data": {
      "image/png": "[encoded data removed]",
      "text/plain": [
       "<matplotlib.figure.Figure at 0x1045a4b10>"
      ]
     },
     "metadata": {},
     "output_type": "display_data"
    }
   ],
   "source": [
    "\n",
    "\n",
    "with Timer() as t:\n",
    "    mandelbrot.mandelbrot(in_coords, out_counts, 1024)\n",
    "seconds = t.interval\n",
    "\n",
    "print(\"{} Million Complex FMAs in {} seconds, {} million Complex FMAs / second\".format(out_counts.sum() / 1e6, seconds, (out_counts.sum() / seconds) / 1e6))\n",
    "\n",
    "plt.imshow(np.log(out_counts))\n",
    "plt.show()"
   ]
  },
  {
   "cell_type": "code",
   "execution_count": 4,
   "metadata": {
    "collapsed": false
   },
   "outputs": [
    {
     "name": "stdout",
     "output_type": "stream",
     "text": [
      "1 threads:\n",
      "1074.656613 Million Complex FMAs in 5.98635601997 seconds, 179.517658057 million Complex FMAs / second\n",
      "2 threads:\n",
      "1074.656613 Million Complex FMAs in 2.773416996 seconds, 387.484685696 million Complex FMAs / second\n",
      "4 threads:\n",
      "1074.656613 Million Complex FMAs in 1.61921191216 seconds, 663.691148103 million Complex FMAs / second\n"
     ]
    }
   ],
   "source": [
    "in_coords, out_counts = make_coords()\n",
    "\n",
    "nthreads = [1,2,4]\n",
    "\n",
    "for nthread in nthreads:\n",
    "    with Timer() as t:\n",
    "        mandelbrot.pmandelbrot(in_coords, out_counts, nthread=nthread, max_iterations=1024)\n",
    "    seconds = t.interval\n",
    "\n",
    "    print nthread,\"threads:\"\n",
    "    print(\"{} Million Complex FMAs in {} seconds, {} million Complex FMAs / second\".format(out_counts.sum() / 1e6, seconds, (out_counts.sum() / seconds) / 1e6))\n",
    "\n",
    "    #plt.imshow(np.log(out_counts))\n",
    "    #plt.show()"
   ]
  },
  {
   "cell_type": "code",
   "execution_count": 13,
   "metadata": {
    "collapsed": false
   },
   "outputs": [
    {
     "name": "stdout",
     "output_type": "stream",
     "text": [
      "6j\n",
      "0.0\n",
      "6.0\n",
      "\n",
      "(-36+0j)\n",
      "-36.0\n",
      "0.0\n",
      "\n",
      "(-36+6j)\n",
      "-36.0\n",
      "6.0\n"
     ]
    }
   ],
   "source": [
    "i = 2j*3\n",
    "print i\n",
    "print np.real(i)\n",
    "print np.imag(i)\n",
    "\n",
    "print\n",
    "print i**2\n",
    "print np.real(i**2)\n",
    "print np.imag(i**2)\n",
    "print\n",
    "i2 = i**2 + i\n",
    "print i2\n",
    "print np.real(i2)\n",
    "print np.imag(i2)"
   ]
  },
  {
   "cell_type": "code",
   "execution_count": null,
   "metadata": {
    "collapsed": true
   },
   "outputs": [],
   "source": []
  },
  {
   "cell_type": "code",
   "execution_count": 5,
   "metadata": {
    "collapsed": false
   },
   "outputs": [
    {
     "data": {
      "text/plain": [
       "(4000, 4000)"
      ]
     },
     "execution_count": 5,
     "metadata": {},
     "output_type": "execute_result"
    }
   ],
   "source": [
    "in_coords.shape"
   ]
  },
  {
   "cell_type": "code",
   "execution_count": 14,
   "metadata": {
    "collapsed": false
   },
   "outputs": [
    {
     "name": "stdout",
     "output_type": "stream",
     "text": [
      "(-0.576249-0.57625j)\n",
      "-0.576249361038\n",
      "-0.576250016689\n"
     ]
    }
   ],
   "source": [
    "a = in_coords[0,1]\n",
    "print a\n",
    "print np.real( a )\n",
    "print np.imag( a )"
   ]
  },
  {
   "cell_type": "code",
   "execution_count": 21,
   "metadata": {
    "collapsed": false
   },
   "outputs": [
    {
     "name": "stdout",
     "output_type": "stream",
     "text": [
      "The slowest run took 59.23 times longer than the fastest. This could mean that an intermediate result is being cached \n",
      "100000 loops, best of 3: 5.22 µs per loop\n"
     ]
    }
   ],
   "source": [
    "%%timeit\n",
    "mandelbrot.example_sqrt_8(np.arange(8).astype(\"float32\"))"
   ]
  },
  {
   "cell_type": "code",
   "execution_count": 24,
   "metadata": {
    "collapsed": false
   },
   "outputs": [
    {
     "name": "stdout",
     "output_type": "stream",
     "text": [
      "The slowest run took 20.36 times longer than the fastest. This could mean that an intermediate result is being cached \n",
      "1000000 loops, best of 3: 1.87 µs per loop\n"
     ]
    }
   ],
   "source": [
    "%%timeit\n",
    "np.sqrt(np.arange(8).astype(\"float32\"))"
   ]
  },
  {
   "cell_type": "code",
   "execution_count": 23,
   "metadata": {
    "collapsed": false
   },
   "outputs": [
    {
     "data": {
      "text/plain": [
       "array([ 0.        ,  1.        ,  1.41421356,  1.73205081,  2.        ,\n",
       "        2.23606798,  2.44948974,  2.64575131])"
      ]
     },
     "execution_count": 23,
     "metadata": {},
     "output_type": "execute_result"
    }
   ],
   "source": [
    "np.sqrt(np.arange(8))"
   ]
  },
  {
   "cell_type": "code",
   "execution_count": null,
   "metadata": {
    "collapsed": true
   },
   "outputs": [],
   "source": []
  }
 ],
 "metadata": {
  "kernelspec": {
   "display_name": "Python 2",
   "language": "python",
   "name": "python2"
  },
  "language_info": {
   "codemirror_mode": {
    "name": "ipython",
    "version": 2
   },
   "file_extension": ".py",
   "mimetype": "text/x-python",
   "name": "python",
   "nbconvert_exporter": "python",
   "pygments_lexer": "ipython2",
   "version": "2.7.10"
  }
 },
 "nbformat": 4,
 "nbformat_minor": 0
}
