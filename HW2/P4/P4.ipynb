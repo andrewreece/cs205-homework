{
 "cells": [
  {
   "cell_type": "code",
   "execution_count": 1,
   "metadata": {
    "collapsed": false
   },
   "outputs": [
    {
     "name": "stdout",
     "output_type": "stream",
     "text": [
      "Compiling with /usr/local/bin/clang-omp\n"
     ]
    }
   ],
   "source": [
    "import sys\n",
    "import os.path\n",
    "sys.path.append(os.path.join('..', 'util'))\n",
    "\n",
    "import set_compiler\n",
    "set_compiler.install()\n",
    "\n",
    "import pyximport\n",
    "pyximport.install()\n",
    "\n",
    "import numpy as np\n",
    "import matplotlib.pyplot as plt\n",
    "\n",
    "import filtering\n",
    "from timer import Timer\n",
    "import threading as th\n",
    "import logging\n",
    "\n",
    "%matplotlib inline"
   ]
  },
  {
   "cell_type": "code",
   "execution_count": 2,
   "metadata": {
    "collapsed": false
   },
   "outputs": [],
   "source": [
    "logger = logging.getLogger()\n",
    "logger.setLevel(logging.DEBUG)\n",
    "logging.basicConfig(filename='log.txt',\n",
    "                    level=logging.DEBUG,\n",
    "                    format='[%(levelname)s] (%(threadName)-10s) %(message)s',\n",
    "                    )"
   ]
  },
  {
   "cell_type": "code",
   "execution_count": 3,
   "metadata": {
    "collapsed": false
   },
   "outputs": [
    {
     "data": {
      "text/plain": [
       "(2404, 9184)"
      ]
     },
     "execution_count": 3,
     "metadata": {},
     "output_type": "execute_result"
    }
   ],
   "source": [
    "input_image = np.load('image.npz')['image'].astype(np.float32)\n",
    "\n",
    "#plt.gray()\n",
    "\n",
    "#plt.imshow(input_image)\n",
    "#plt.title('original image')\n",
    "\n",
    "#plt.figure()\n",
    "#plt.imshow(input_image[1200:1800, 3000:3500])\n",
    "#plt.title('before - zoom')\n",
    "input_image.shape"
   ]
  },
  {
   "cell_type": "code",
   "execution_count": 4,
   "metadata": {
    "collapsed": false
   },
   "outputs": [
    {
     "data": {
      "text/plain": [
       "array([[ 160.25230408,  159.25239563,  155.25280762, ...,  152.10049438,\n",
       "         150.10069275,  149.10079956],\n",
       "       [ 159.25239563,  159.25239563,  156.25270081, ...,  153.10040283,\n",
       "         150.10069275,  150.10069275],\n",
       "       [ 156.25270081,  157.25259399,  155.25280762, ...,  150.10069275,\n",
       "         147.10099792,  148.10090637],\n",
       "       ..., \n",
       "       [ 146.65859985,  148.65840149,  153.65789795, ...,   20.04739952,\n",
       "          22.04719925,   25.0468998 ],\n",
       "       [ 148.65840149,  148.65840149,  151.65809631, ...,   20.04739952,\n",
       "          22.04719925,   24.04700089],\n",
       "       [ 148.65840149,  149.65829468,  150.65820312, ...,   21.04730034,\n",
       "          22.04719925,   23.04710007]], dtype=float32)"
      ]
     },
     "execution_count": 4,
     "metadata": {},
     "output_type": "execute_result"
    }
   ],
   "source": [
    "input_image"
   ]
  },
  {
   "cell_type": "code",
   "execution_count": 88,
   "metadata": {
    "collapsed": true
   },
   "outputs": [],
   "source": [
    "# oct 31 6:20pm\n",
    "\n",
    "# the problem you're having is because you're slicing so early that the actual median function\n",
    "# isn't getting the full array to work with. that's why you're getting medians from the 3rd\n",
    "# row in your first row (the first row shouldn't even be able to see the 3rd row, as it only\n",
    "# takes the one below it - row2 - and the (nonexistent) one above it, which ends up just being\n",
    "# a copy of itself). \n",
    "\n",
    "# you need to figure out a way to let the cython median function act on the full array, but still\n",
    "# have each thread only concerned with determining median values for every nth row.\n",
    "\n",
    "def per_thread_median(A,B,this_thr,evs,I):\n",
    "    ''' Runs Cython median_3x3() with thread-private offset image slice\n",
    "    \n",
    "        Slices start at index start=0...num_threads of tmpA, and are passed in as A.\n",
    "        \n",
    "        Each slice waits until the previous iterations of threads controlling\n",
    "        the thread_num-1, thread_num, and thread_num+1 slices have finished. \n",
    "        \n",
    "        \"Finished\" is signaled by the Event variable in evs[] for that particular slice on \n",
    "        the previous iteration (i-1).\n",
    "        \n",
    "        Example: \n",
    "            For current iteration i, with thread_index n, where 0 > n > num_threads-1:\n",
    "            We wait to begin median_3x3 until:\n",
    "                evs[ n-1, i-1 ] is set to True\n",
    "                evs[ n  , i-1 ] is set to True\n",
    "                evs[ n+1, i-1 ] is set to True\n",
    "        \n",
    "        Nothing is returned as A is a view on tmpA in the parent function, so modifications\n",
    "        happen directly to tmpA (which is a copy of the image we're filtering).\n",
    "    '''\n",
    "    for i in range(I):\n",
    "        logger.debug('Round {}'.format(i))\n",
    "        \n",
    "        '''If this_thr is index 0 or max-thread, wrap-around prev/next thread idx\n",
    "            Eg. this_thr == 0 --> prev_thread = max-thread idx\n",
    "        \n",
    "            NOTE: If only 2 threads, this should still be fine, but two out of the three checks\n",
    "                  will be for the same Event. \n",
    "            Eg. For 2 threads, for thread 0, next_thr = 1, prev_thr = 1, so both will wait for \n",
    "                same Event to become true.\n",
    "        '''    \n",
    "        prev_thr = this_thr-1 if this_thr-1 >= 0 else evs.shape[0]-1\n",
    "        next_thr = this_thr+1 if this_thr+1 < evs.shape[0] else 0\n",
    "        \n",
    "        if i: # for i==0 no checking is necessary\n",
    "            \n",
    "            logger.debug('THREAD {} waiting for Events i-1={} to be ready'.format(this_thr,i-1))\n",
    "\n",
    "            # wait until all nearby threads have finished iteration i-1\n",
    "            \n",
    "            evs[ prev_thr, i-1 ].wait()  \n",
    "            evs[ this_thr, i-1 ].wait() \n",
    "            evs[ next_thr, i-1 ].wait() \n",
    "\n",
    "        logger.debug('THREAD {} ready to proceed, i={}\\n'.format(this_thr,i))\n",
    "\n",
    "        filtering.median_3x3(A, B, 0, 1)\n",
    "\n",
    "        logger.debug('Results: THREAD {}, i={}'.format(this_thr,i))\n",
    "        logger.debug(B)\n",
    "        logger.debug('\\n\\n')\n",
    "        # set Event == True for current thread, current iteration \n",
    "        evs[this_thr,i].set()\n",
    "        \n",
    "        # lockstep with other threads (don't proceed until all other threads are done for i)\n",
    "        for ix in range(evs.shape[0]):\n",
    "            evs[ix,i].wait()\n",
    "        # swap direction of filtering\n",
    "        #A, B = B, A\n",
    "        \n",
    "        logger.debug('THREAD {} complete and Event.set(), i={}'.format(this_thr,i))\n",
    "            \n",
    "def py_median_3x3(image, iterations=10, num_threads=1):\n",
    "    ''' repeatedly filter with a 3x3 median '''\n",
    "    tmpA = image.copy()\n",
    "    tmpA = tmpA[0:4,0:4].copy()\n",
    "    tmpB = np.empty_like(tmpA)\n",
    "\n",
    "    # initialize Events array, shape: [num_threads x iterations]\n",
    "    events = np.empty( (num_threads, iterations), dtype=th._Event )\n",
    "    \n",
    "    # populate Events array\n",
    "    for i in xrange(num_threads):\n",
    "        events[i,:] = [th.Event() for _ in xrange(iterations)]   \n",
    "    \n",
    "    # initialize threads array, shape: [num_threads]\n",
    "    threads = np.empty(num_threads,dtype=th.Thread)\n",
    "\n",
    "    # populate threads array\n",
    "    # each thread starts per_thread_median() with args: slice tmpA, slice tmpB, thread id, events array, num iterations\n",
    "    for start in range(num_threads):\n",
    "        threads[start] = th.Thread(name='t{}'.format(start), \n",
    "                                   target=per_thread_median, \n",
    "                                   args=(tmpA[start::num_threads,:],\n",
    "                                         tmpB[start::num_threads,:],\n",
    "                                         start,\n",
    "                                         events,\n",
    "                                         iterations\n",
    "                                        )\n",
    "                                  )\n",
    "        threads[start].start()\n",
    "    \n",
    "    # reunite threads into master, use .join() to make sure all threads have completed\n",
    "    for ix in range(num_threads):\n",
    "        threads[ix].join()\n",
    "        \n",
    "    logger.debug('END FUNCTION\\n\\n')\n",
    "    return tmpB"
   ]
  },
  {
   "cell_type": "code",
   "execution_count": 89,
   "metadata": {
    "collapsed": true
   },
   "outputs": [],
   "source": [
    "def numpy_median(image, iterations=10):\n",
    "    ''' filter using numpy '''\n",
    "    for i in range(iterations):\n",
    "        padded = np.pad(image, 1, mode='edge')\n",
    "        stacked = np.dstack((padded[:-2,  :-2], padded[:-2,  1:-1], padded[:-2,  2:],\n",
    "                             padded[1:-1, :-2], padded[1:-1, 1:-1], padded[1:-1, 2:],\n",
    "                             padded[2:,   :-2], padded[2:,   1:-1], padded[2:,   2:]))\n",
    "        image = np.median(stacked, axis=2)\n",
    "\n",
    "    return image"
   ]
  },
  {
   "cell_type": "code",
   "execution_count": 90,
   "metadata": {
    "collapsed": false
   },
   "outputs": [
    {
     "name": "stderr",
     "output_type": "stream",
     "text": [
      "DEBUG:root:Round 0\n",
      "DEBUG:root:Round 0\n",
      "DEBUG:root:THREAD 0 ready to proceed, i=0\n",
      "\n",
      "DEBUG:root:THREAD 1 ready to proceed, i=0\n",
      "\n",
      "DEBUG:root:Results: THREAD 0, i=0\n",
      "DEBUG:root:Results: THREAD 1, i=0\n",
      "DEBUG:root:[[ 159.25239563  157.25259399  155.89370728  155.89370728]\n",
      " [ 157.25259399  156.25270081  157.25259399  155.89370728]]\n",
      "DEBUG:root:[[ 159.25239563  156.25270081  156.89360046  156.89360046]\n",
      " [ 156.25270081  156.25270081  156.25270081  156.89360046]]\n",
      "DEBUG:root:\n",
      "\n",
      "\n",
      "DEBUG:root:\n",
      "\n",
      "\n",
      "DEBUG:root:THREAD 1 complete and Event.set(), i=0\n",
      "DEBUG:root:THREAD 0 complete and Event.set(), i=0\n",
      "DEBUG:root:END FUNCTION\n",
      "\n",
      "\n"
     ]
    }
   ],
   "source": [
    "from_cython = py_median_3x3(input_image, 1, 2)\n"
   ]
  },
  {
   "cell_type": "code",
   "execution_count": 86,
   "metadata": {
    "collapsed": false
   },
   "outputs": [],
   "source": [
    "from_numpy = numpy_median(input_image[0:4,0:4], 1)\n"
   ]
  },
  {
   "cell_type": "code",
   "execution_count": 87,
   "metadata": {
    "collapsed": false
   },
   "outputs": [
    {
     "name": "stdout",
     "output_type": "stream",
     "text": [
      "[[ 160.25230408  159.25239563  155.25280762  155.89370728]\n",
      " [ 159.25239563  159.25239563  156.25270081  156.89360046]\n",
      " [ 156.25270081  157.25259399  155.25280762  157.25259399]\n",
      " [ 154.25289917  156.25270081  155.25280762  157.25259399]]\n",
      "\n",
      "cython\n",
      "[ 159.25239563  157.25259399  155.89370728  155.89370728]\n",
      "\n",
      "numpy\n",
      "[ 159.25239563  159.25239563  156.25270081  155.89370728]\n",
      "2\n",
      "4\n"
     ]
    },
    {
     "data": {
      "text/plain": [
       "0.5"
      ]
     },
     "execution_count": 87,
     "metadata": {},
     "output_type": "execute_result"
    }
   ],
   "source": [
    "print input_image[0:4,0:4]\n",
    "print\n",
    "print \"cython\"\n",
    "print from_cython[0,:]\n",
    "print\n",
    "print \"numpy\"\n",
    "print from_numpy[0,:]\n",
    "print np.where(from_cython[0,:] == from_numpy[0,:])[0].shape[0]\n",
    "print from_cython[0,:].shape[0]\n",
    "np.where(from_cython[0,:] == from_numpy[0,:])[0].shape[0]/float(from_cython[0,:].shape[0])"
   ]
  },
  {
   "cell_type": "code",
   "execution_count": 71,
   "metadata": {
    "collapsed": false
   },
   "outputs": [
    {
     "data": {
      "text/plain": [
       "array([[ 159.25239563,  157.25259399,  155.89370728,  155.89370728],\n",
       "       [ 159.25239563,  156.25270081,  156.89360046,  156.89360046],\n",
       "       [ 157.25259399,  156.25270081,  157.25259399,  155.89370728],\n",
       "       [ 156.25270081,  156.25270081,  156.25270081,  156.89360046]], dtype=float32)"
      ]
     },
     "execution_count": 71,
     "metadata": {},
     "output_type": "execute_result"
    }
   ],
   "source": [
    "from_cython"
   ]
  },
  {
   "cell_type": "code",
   "execution_count": 73,
   "metadata": {
    "collapsed": false
   },
   "outputs": [
    {
     "data": {
      "text/plain": [
       "array([[ 159.25239563,  159.25239563,  156.25270081,  155.89370728],\n",
       "       [ 159.25239563,  157.25259399,  156.89360046,  156.25270081],\n",
       "       [ 156.25270081,  156.25270081,  156.89360046,  156.89360046],\n",
       "       [ 156.25270081,  155.25280762,  156.25270081,  157.25259399]], dtype=float32)"
      ]
     },
     "execution_count": 73,
     "metadata": {},
     "output_type": "execute_result"
    }
   ],
   "source": [
    "from_numpy"
   ]
  },
  {
   "cell_type": "code",
   "execution_count": 30,
   "metadata": {
    "collapsed": false
   },
   "outputs": [
    {
     "name": "stdout",
     "output_type": "stream",
     "text": [
      "CYTHON == NUMPY\n"
     ]
    }
   ],
   "source": [
    "assert np.all(from_cython == from_numpy)\n",
    "print \"CYTHON == NUMPY\""
   ]
  },
  {
   "cell_type": "code",
   "execution_count": null,
   "metadata": {
    "collapsed": false
   },
   "outputs": [],
   "source": [
    "\n",
    "\n",
    "with Timer() as t:\n",
    "    new_image = py_median_3x3(input_image, 10, 8)\n",
    "\n",
    "pylab.figure()\n",
    "pylab.imshow(new_image[1200:1800, 3000:3500])\n",
    "pylab.title('after - zoom')\n",
    "\n",
    "print(\"{} seconds for 10 filter passes.\".format(t.interval))\n",
    "pylab.show()"
   ]
  },
  {
   "cell_type": "code",
   "execution_count": null,
   "metadata": {
    "collapsed": true
   },
   "outputs": [],
   "source": []
  },
  {
   "cell_type": "code",
   "execution_count": null,
   "metadata": {
    "collapsed": true
   },
   "outputs": [],
   "source": []
  }
 ],
 "metadata": {
  "kernelspec": {
   "display_name": "Python 2",
   "language": "python",
   "name": "python2"
  },
  "language_info": {
   "codemirror_mode": {
    "name": "ipython",
    "version": 2
   },
   "file_extension": ".py",
   "mimetype": "text/x-python",
   "name": "python",
   "nbconvert_exporter": "python",
   "pygments_lexer": "ipython2",
   "version": "2.7.10"
  }
 },
 "nbformat": 4,
 "nbformat_minor": 0
}
