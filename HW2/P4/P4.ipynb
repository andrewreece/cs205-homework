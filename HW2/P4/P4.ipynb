{
 "cells": [
  {
   "cell_type": "code",
   "execution_count": 1,
   "metadata": {
    "collapsed": false
   },
   "outputs": [
    {
     "name": "stdout",
     "output_type": "stream",
     "text": [
      "Compiling with /usr/local/bin/clang-omp\n"
     ]
    }
   ],
   "source": [
    "import sys\n",
    "import os.path\n",
    "sys.path.append(os.path.join('..', 'util'))\n",
    "\n",
    "import set_compiler\n",
    "set_compiler.install()\n",
    "\n",
    "import pyximport\n",
    "pyximport.install()\n",
    "\n",
    "import numpy as np\n",
    "import matplotlib.pyplot as plt\n",
    "\n",
    "import filtering\n",
    "from timer import Timer\n",
    "import threading as th\n",
    "import logging\n",
    "\n",
    "%matplotlib inline"
   ]
  },
  {
   "cell_type": "code",
   "execution_count": 2,
   "metadata": {
    "collapsed": false
   },
   "outputs": [],
   "source": [
    "input_image = np.load('image.npz')['image'].astype(np.float32)\n",
    "\n",
    "#plt.gray()\n",
    "\n",
    "#plt.imshow(input_image)\n",
    "#plt.title('original image')\n",
    "\n",
    "#plt.figure()\n",
    "#plt.imshow(input_image[1200:1800, 3000:3500])\n",
    "#plt.title('before - zoom')\n"
   ]
  },
  {
   "cell_type": "code",
   "execution_count": 3,
   "metadata": {
    "collapsed": false
   },
   "outputs": [],
   "source": [
    "logger = logging.getLogger()\n",
    "logger.setLevel(logging.DEBUG)\n",
    "logging.basicConfig(filename='log.txt',\n",
    "                    level=logging.DEBUG,\n",
    "                    format='[%(levelname)s] (%(threadName)-10s) %(message)s',\n",
    "                    )"
   ]
  },
  {
   "cell_type": "code",
   "execution_count": 4,
   "metadata": {
    "collapsed": false
   },
   "outputs": [
    {
     "data": {
      "text/plain": [
       "(2404, 9184)"
      ]
     },
     "execution_count": 4,
     "metadata": {},
     "output_type": "execute_result"
    }
   ],
   "source": [
    "input_image.shape"
   ]
  },
  {
   "cell_type": "code",
   "execution_count": 5,
   "metadata": {
    "collapsed": false
   },
   "outputs": [
    {
     "name": "stdout",
     "output_type": "stream",
     "text": [
      "False\n",
      "False\n",
      "False\n",
      "False\n",
      "False\n"
     ]
    }
   ],
   "source": [
    "events = np.empty( (5, 2), dtype=th._Event )\n",
    "\n",
    "for i in xrange(5):\n",
    "    events[i,:] = [th.Event() for _ in xrange(2)]\n",
    "    \n",
    "for i in xrange(5):\n",
    "    print events[i-1,0].is_set()"
   ]
  },
  {
   "cell_type": "code",
   "execution_count": 6,
   "metadata": {
    "collapsed": true
   },
   "outputs": [],
   "source": [
    "def per_thread_median(tmpA,tmpB,thread_ix,evs,I):\n",
    "    \n",
    "    for i in range(I):\n",
    "        logger.debug('Round {}'.format(i))\n",
    "        \n",
    "        if i:\n",
    "            logger.debug('Waiting for i-1={} to be ready'.format(i-1))\n",
    "            if ix == 0:\n",
    "                ready_check = evs[thread_ix,i-1].wait() and evs[thread_ix+1,i-1].wait()\n",
    "            elif ix == evs.shape[0]-1:\n",
    "                ready_check = evs[thread_ix,i-1].wait() and evs[thread_ix-1,i-1].wait()\n",
    "            else:\n",
    "                ready_check = evs[thread_ix-1,i-1].wait() and evs[thread_ix,i-1].wait() and evs[thread_ix+1,i-1].wait() \n",
    "        \n",
    "        logger.debug('Ready to proceed with thread {}, round i={} acquired.'.format(thread_ix,i))\n",
    "\n",
    "        filtering.median_3x3(tmpA, tmpB, 0, 1)\n",
    "        # swap direction of filtering\n",
    "        tmpA, tmpB = tmpB, tmpA\n",
    "\n",
    "        evs[thread_ix,i].set()\n",
    "        logger.debug('Ready event for thread {}, round {}'.format(thread_ix,i))\n",
    "            \n",
    "def py_median_3x3(image, iterations=10, num_threads=1):\n",
    "    ''' repeatedly filter with a 3x3 median '''\n",
    "    tmpA = image.copy()\n",
    "    tmpB = np.empty_like(tmpA)\n",
    "\n",
    "    events = np.empty( (num_threads, iterations), dtype=th._Event )\n",
    "\n",
    "    for i in xrange(num_threads):\n",
    "        events[i,:] = [th.Event() for _ in xrange(iterations)]   \n",
    "    \n",
    "    threads = np.empty(num_threads,dtype=th.Thread)\n",
    "    \n",
    "    for start in range(num_threads):\n",
    "        threads[start] = th.Thread(name='t{}'.format(start), \n",
    "                                   target=per_thread_median, \n",
    "                                   args=(tmpA[start::num_threads,:],\n",
    "                                         tmpB[start::num_threads,:],\n",
    "                                         start,\n",
    "                                         events,\n",
    "                                         iterations\n",
    "                                        )\n",
    "                                  )\n",
    "        threads[start].start()\n",
    "        threads[start].join()\n",
    "        \n",
    "\n",
    "    return tmpA\n"
   ]
  },
  {
   "cell_type": "code",
   "execution_count": 7,
   "metadata": {
    "collapsed": true
   },
   "outputs": [],
   "source": [
    "def numpy_median(image, iterations=10):\n",
    "    ''' filter using numpy '''\n",
    "    for i in range(iterations):\n",
    "        padded = np.pad(image, 1, mode='edge')\n",
    "        stacked = np.dstack((padded[:-2,  :-2], padded[:-2,  1:-1], padded[:-2,  2:],\n",
    "                             padded[1:-1, :-2], padded[1:-1, 1:-1], padded[1:-1, 2:],\n",
    "                             padded[2:,   :-2], padded[2:,   1:-1], padded[2:,   2:]))\n",
    "        image = np.median(stacked, axis=2)\n",
    "\n",
    "    return image"
   ]
  },
  {
   "cell_type": "code",
   "execution_count": 8,
   "metadata": {
    "collapsed": false
   },
   "outputs": [
    {
     "name": "stderr",
     "output_type": "stream",
     "text": [
      "DEBUG:root:Round 0\n",
      "DEBUG:root:Ready to proceed with thread 0, round i=0 acquired.\n",
      "DEBUG:root:Ready event for thread 0, round 0\n",
      "DEBUG:root:Round 1\n",
      "DEBUG:root:Waiting for i-1=0 to be ready\n",
      "Exception in thread t0:\n",
      "Traceback (most recent call last):\n",
      "  File \"/Users/andrew/anaconda/lib/python2.7/threading.py\", line 810, in __bootstrap_inner\n",
      "    self.run()\n",
      "  File \"/Users/andrew/anaconda/lib/python2.7/threading.py\", line 763, in run\n",
      "    self.__target(*self.__args, **self.__kwargs)\n",
      "  File \"<ipython-input-6-8d77e2428877>\", line 8, in per_thread_median\n",
      "    if ix == 0:\n",
      "NameError: global name 'ix' is not defined\n",
      "\n",
      "DEBUG:root:Round 0\n",
      "DEBUG:root:Ready to proceed with thread 1, round i=0 acquired.\n",
      "DEBUG:root:Ready event for thread 1, round 0\n",
      "DEBUG:root:Round 1\n",
      "DEBUG:root:Waiting for i-1=0 to be ready\n",
      "Exception in thread t1:\n",
      "Traceback (most recent call last):\n",
      "  File \"/Users/andrew/anaconda/lib/python2.7/threading.py\", line 810, in __bootstrap_inner\n",
      "    self.run()\n",
      "  File \"/Users/andrew/anaconda/lib/python2.7/threading.py\", line 763, in run\n",
      "    self.__target(*self.__args, **self.__kwargs)\n",
      "  File \"<ipython-input-6-8d77e2428877>\", line 8, in per_thread_median\n",
      "    if ix == 0:\n",
      "NameError: global name 'ix' is not defined\n",
      "\n",
      "DEBUG:root:Round 0\n",
      "DEBUG:root:Ready to proceed with thread 2, round i=0 acquired.\n",
      "DEBUG:root:Ready event for thread 2, round 0\n",
      "DEBUG:root:Round 1\n",
      "DEBUG:root:Waiting for i-1=0 to be ready\n",
      "Exception in thread t2:\n",
      "Traceback (most recent call last):\n",
      "  File \"/Users/andrew/anaconda/lib/python2.7/threading.py\", line 810, in __bootstrap_inner\n",
      "    self.run()\n",
      "  File \"/Users/andrew/anaconda/lib/python2.7/threading.py\", line 763, in run\n",
      "    self.__target(*self.__args, **self.__kwargs)\n",
      "  File \"<ipython-input-6-8d77e2428877>\", line 8, in per_thread_median\n",
      "    if ix == 0:\n",
      "NameError: global name 'ix' is not defined\n",
      "\n",
      "DEBUG:root:Round 0\n",
      "DEBUG:root:Ready to proceed with thread 3, round i=0 acquired.\n",
      "DEBUG:root:Ready event for thread 3, round 0\n",
      "DEBUG:root:Round 1\n",
      "DEBUG:root:Waiting for i-1=0 to be ready\n",
      "Exception in thread t3:\n",
      "Traceback (most recent call last):\n",
      "  File \"/Users/andrew/anaconda/lib/python2.7/threading.py\", line 810, in __bootstrap_inner\n",
      "    self.run()\n",
      "  File \"/Users/andrew/anaconda/lib/python2.7/threading.py\", line 763, in run\n",
      "    self.__target(*self.__args, **self.__kwargs)\n",
      "  File \"<ipython-input-6-8d77e2428877>\", line 8, in per_thread_median\n",
      "    if ix == 0:\n",
      "NameError: global name 'ix' is not defined\n",
      "\n",
      "DEBUG:root:Round 0\n",
      "DEBUG:root:Ready to proceed with thread 4, round i=0 acquired.\n",
      "DEBUG:root:Ready event for thread 4, round 0\n",
      "DEBUG:root:Round 1\n",
      "DEBUG:root:Waiting for i-1=0 to be ready\n",
      "Exception in thread t4:\n",
      "Traceback (most recent call last):\n",
      "  File \"/Users/andrew/anaconda/lib/python2.7/threading.py\", line 810, in __bootstrap_inner\n",
      "    self.run()\n",
      "  File \"/Users/andrew/anaconda/lib/python2.7/threading.py\", line 763, in run\n",
      "    self.__target(*self.__args, **self.__kwargs)\n",
      "  File \"<ipython-input-6-8d77e2428877>\", line 8, in per_thread_median\n",
      "    if ix == 0:\n",
      "NameError: global name 'ix' is not defined\n",
      "\n"
     ]
    }
   ],
   "source": [
    "# verify correctness\n",
    "from_cython = py_median_3x3(input_image, 2, 5)\n",
    "from_numpy = numpy_median(input_image, 2)\n"
   ]
  },
  {
   "cell_type": "code",
   "execution_count": 8,
   "metadata": {
    "collapsed": false
   },
   "outputs": [
    {
     "data": {
      "text/plain": [
       "array([[ 157.25259399,  156.25270081,  156.25270081, ...,  152.10049438,\n",
       "         151.1006012 ,  150.10069275],\n",
       "       [ 158.25250244,  157.25259399,  157.25259399, ...,  152.10049438,\n",
       "         152.10049438,  151.1006012 ],\n",
       "       [ 157.25259399,  157.25259399,  157.25259399, ...,  152.23150635,\n",
       "         152.10049438,  150.10069275],\n",
       "       ..., \n",
       "       [ 150.19599915,  150.19599915,  153.65789795, ...,   20.16139984,\n",
       "          22.16119957,   23.87290001],\n",
       "       [ 148.65840149,  148.65840149,  151.65809631, ...,   22.04719925,\n",
       "          23.16110039,   24.04700089],\n",
       "       [ 148.65840149,  148.89720154,  150.65820312, ...,   22.04719925,\n",
       "          23.04710007,   23.04710007]], dtype=float32)"
      ]
     },
     "execution_count": 8,
     "metadata": {},
     "output_type": "execute_result"
    }
   ],
   "source": [
    "from_cython"
   ]
  },
  {
   "cell_type": "code",
   "execution_count": 9,
   "metadata": {
    "collapsed": false
   },
   "outputs": [
    {
     "data": {
      "text/plain": [
       "array([[ 159.25239563,  159.25239563,  156.89360046, ...,  152.10049438,\n",
       "         150.10069275,  150.10069275],\n",
       "       [ 159.25239563,  156.89360046,  156.89360046, ...,  152.10049438,\n",
       "         150.10069275,  149.10079956],\n",
       "       [ 156.25270081,  156.25270081,  156.89360046, ...,  150.10069275,\n",
       "         148.10090637,  148.10090637],\n",
       "       ..., \n",
       "       [ 146.65859985,  148.65840149,  151.2559967 , ...,   20.04739952,\n",
       "          22.04719925,   22.16119957],\n",
       "       [ 148.65840149,  148.65840149,  151.2559967 , ...,   21.04730034,\n",
       "          22.04719925,   23.04710007],\n",
       "       [ 148.65840149,  149.65829468,  150.65820312, ...,   21.04730034,\n",
       "          22.04719925,   23.04710007]], dtype=float32)"
      ]
     },
     "execution_count": 9,
     "metadata": {},
     "output_type": "execute_result"
    }
   ],
   "source": [
    "from_numpy"
   ]
  },
  {
   "cell_type": "code",
   "execution_count": null,
   "metadata": {
    "collapsed": false
   },
   "outputs": [],
   "source": [
    "\n",
    "assert np.all(from_cython == from_numpy)\n",
    "\n",
    "with Timer() as t:\n",
    "    new_image = py_median_3x3(input_image, 10, 8)\n",
    "\n",
    "pylab.figure()\n",
    "pylab.imshow(new_image[1200:1800, 3000:3500])\n",
    "pylab.title('after - zoom')\n",
    "\n",
    "print(\"{} seconds for 10 filter passes.\".format(t.interval))\n",
    "pylab.show()"
   ]
  },
  {
   "cell_type": "code",
   "execution_count": 24,
   "metadata": {
    "collapsed": false
   },
   "outputs": [
    {
     "name": "stderr",
     "output_type": "stream",
     "text": [
      "DEBUG:root:Starting consumer thread\n",
      "DEBUG:root:Starting producer thread p1\n",
      "DEBUG:root:Making resource available\n",
      "DEBUG:root:Starting producer thread p2\n",
      "DEBUG:root:Making resource available\n",
      "DEBUG:root:Starting producer thread p3\n",
      "DEBUG:root:Making resource available\n",
      "DEBUG:root:Lock 1 is available to consumer, c1 speaking here\n"
     ]
    }
   ],
   "source": [
    "\n",
    "def consumer(cond1,cond2,cond3,id):\n",
    "\n",
    "    # wait for the condition and use the resource\n",
    "\n",
    "    logging.debug('Starting consumer thread')\n",
    "\n",
    "    with cond1, cond2, cond3:\n",
    "        cond1.wait()\n",
    "        cond2.wait()\n",
    "        cond3.wait()\n",
    "    logging.debug('Lock 1 is available to consumer, {} speaking here'.format(id))\n",
    "    '''\n",
    "    with cond2:\n",
    "        cond2.wait()\n",
    "    logging.debug( 'Lock 2 is available to consumer, {} speaking here'.format(id) )\n",
    "    \n",
    "    with cond3:\n",
    "        cond3.wait()\n",
    "    \n",
    "    logging.debug('Lock 3 is available to consumer, {} speaking here'.format(id))\n",
    "    '''\n",
    "def producer(cond, id):\n",
    "\n",
    "    # set up the resource to be used by the consumer\n",
    "\n",
    "    logging.debug('Starting producer thread {}'.format(id))\n",
    "    logging.debug('Making resource available')\n",
    "    \n",
    "    with cond:\n",
    "        cond.notify()\n",
    "\n",
    "\n",
    "c1 = th.Condition()\n",
    "c2 = th.Condition()\n",
    "c3 = th.Condition()\n",
    "\n",
    "consumer1 = th.Thread(name='c1', target=consumer, args=(c1,c2,c3,'c1'))\n",
    "#consumer2 = threading.Thread(name='c2', target=consumer, args=(c1,c2,c3,'c2'))\n",
    "\n",
    "p1 = th.Thread(name='p1', target=producer, args=(c1,'p1'))\n",
    "p2 = th.Thread(name='p2', target=producer, args=(c2,'p2'))\n",
    "p3 = th.Thread(name='p3', target=producer, args=(c3,'p3'))\n",
    "\n",
    "consumer1.start()\n",
    "#consumer2.start()\n",
    "\n",
    "p1.start()\n",
    "p2.start()\n",
    "p3.start()"
   ]
  },
  {
   "cell_type": "code",
   "execution_count": null,
   "metadata": {
    "collapsed": true
   },
   "outputs": [],
   "source": []
  },
  {
   "cell_type": "code",
   "execution_count": null,
   "metadata": {
    "collapsed": true
   },
   "outputs": [],
   "source": []
  }
 ],
 "metadata": {
  "kernelspec": {
   "display_name": "Python 2",
   "language": "python",
   "name": "python2"
  },
  "language_info": {
   "codemirror_mode": {
    "name": "ipython",
    "version": 2
   },
   "file_extension": ".py",
   "mimetype": "text/x-python",
   "name": "python",
   "nbconvert_exporter": "python",
   "pygments_lexer": "ipython2",
   "version": "2.7.10"
  }
 },
 "nbformat": 4,
 "nbformat_minor": 0
}
